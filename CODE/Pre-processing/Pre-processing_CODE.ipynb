{
 "cells": [
  {
   "cell_type": "code",
   "execution_count": 2,
   "metadata": {},
   "outputs": [],
   "source": [
    "# ============================================ [ setting ] =======================================================\n",
    "import numpy as np\n",
    "import pandas as pd\n",
    "\n",
    "train = pd.read_csv(\"/Users/gimjiseong/Downloads/[ DACON ] Game_Behavior_DataAnalysis_Comp./data/train.csv\")"
   ]
  },
  {
   "cell_type": "code",
   "execution_count": 3,
   "metadata": {},
   "outputs": [],
   "source": [
    "## + [ pre-processing ] ======================\n",
    "df_train = pd.DataFrame(columns = ['game_id']) # game id \n",
    "df_train.game_id = train.game_id.unique()\n",
    "\n",
    "df_train['time'] = np.array(train[train.shift(-1).game_id != train.game_id].time) # game time \n",
    "\n",
    "df = train[train.player == 0]\n",
    "df_train['player0_species'] = np.array(df[df.shift(-1).game_id != df.game_id].species)\n",
    "df = train[train.player==1]\n",
    "df_train['player1_species'] = np.array(df[df.shift(-1).game_id != df.game_id].species)\n",
    "\n",
    "df = train[train.player == 0]\n",
    "df_train['event_count_0'] = np.array(df.game_id.value_counts()[df.game_id.unique()])\n",
    "df = train[train.player == 1]\n",
    "df_train['event_count_1'] = np.array(df.game_id.value_counts()[df.game_id.unique()])\n",
    "\n",
    "for event in train.event.unique():\n",
    "    df = train[(train.player == 0)&(train.event == event)]\n",
    "    df = pd.DataFrame(df.game_id.value_counts()[df.game_id.unique()]).rename({'game_id':event+'_count_0'}, axis = 1)\n",
    "    df['game_id']= np.array(df.index)\n",
    "    df_train = pd.merge(df_train, df, on='game_id', how='left')\n",
    "\n",
    "    df = train[(train.player == 1)&(train.event == event)]\n",
    "    df = pd.DataFrame(df.game_id.value_counts()[df.game_id.unique()]).rename({'game_id':event+'_count_1'}, axis = 1)\n",
    "    df['game_id']= np.array(df.index)\n",
    "    df_train = pd.merge(df_train, df, on = 'game_id', how = 'left')\n",
    "df_train = df_train.fillna(0)\n",
    "\n",
    "for event in train.event.unique():\n",
    "    df_train[event + '_diff'] = df_train[event+'_count_0'] - df_train[event+'_count_1']\n",
    "\n",
    "df_train['winner'] = np.array(train[train.shift(-1).game_id != train.game_id].winner)"
   ]
  },
  {
   "cell_type": "code",
   "execution_count": 4,
   "metadata": {},
   "outputs": [],
   "source": [
    "idx = df_train[df_train.player0_species=='T'].index\n",
    "df_train.loc[idx, 'player0_species'] = 0\n",
    "idx = df_train[df_train.player0_species=='P'].index\n",
    "df_train.loc[idx, 'player0_species'] = 1\n",
    "idx = df_train[df_train.player0_species=='Z'].index\n",
    "df_train.loc[idx, 'player0_species'] = 2\n",
    "\n",
    "idx = df_train[df_train.player1_species=='T'].index\n",
    "df_train.loc[idx, 'player1_species'] = 0\n",
    "idx = df_train[df_train.player1_species=='P'].index\n",
    "df_train.loc[idx, 'player1_species'] = 1\n",
    "idx = df_train[df_train.player1_species=='Z'].index\n",
    "df_train.loc[idx, 'player1_species'] = 2"
   ]
  },
  {
   "cell_type": "code",
   "execution_count": 12,
   "metadata": {},
   "outputs": [
    {
     "data": {
      "text/html": [
       "<div>\n",
       "<style scoped>\n",
       "    .dataframe tbody tr th:only-of-type {\n",
       "        vertical-align: middle;\n",
       "    }\n",
       "\n",
       "    .dataframe tbody tr th {\n",
       "        vertical-align: top;\n",
       "    }\n",
       "\n",
       "    .dataframe thead th {\n",
       "        text-align: right;\n",
       "    }\n",
       "</style>\n",
       "<table border=\"1\" class=\"dataframe\">\n",
       "  <thead>\n",
       "    <tr style=\"text-align: right;\">\n",
       "      <th></th>\n",
       "      <th>game_id</th>\n",
       "      <th>time</th>\n",
       "      <th>player0_species</th>\n",
       "      <th>player1_species</th>\n",
       "      <th>event_count_0</th>\n",
       "      <th>event_count_1</th>\n",
       "      <th>Camera_count_0</th>\n",
       "      <th>Camera_count_1</th>\n",
       "      <th>Selection_count_0</th>\n",
       "      <th>Selection_count_1</th>\n",
       "      <th>...</th>\n",
       "      <th>ControlGroup_count_1</th>\n",
       "      <th>Camera_diff</th>\n",
       "      <th>Selection_diff</th>\n",
       "      <th>Ability_diff</th>\n",
       "      <th>Right Click_diff</th>\n",
       "      <th>SetControlGroup_diff</th>\n",
       "      <th>GetControlGroup_diff</th>\n",
       "      <th>AddToControlGroup_diff</th>\n",
       "      <th>ControlGroup_diff</th>\n",
       "      <th>winner</th>\n",
       "    </tr>\n",
       "  </thead>\n",
       "  <tbody>\n",
       "    <tr>\n",
       "      <td>0</td>\n",
       "      <td>0</td>\n",
       "      <td>7.24</td>\n",
       "      <td>0</td>\n",
       "      <td>0</td>\n",
       "      <td>592</td>\n",
       "      <td>548</td>\n",
       "      <td>444.0</td>\n",
       "      <td>425.0</td>\n",
       "      <td>50.0</td>\n",
       "      <td>57.0</td>\n",
       "      <td>...</td>\n",
       "      <td>0.0</td>\n",
       "      <td>19.0</td>\n",
       "      <td>-7.0</td>\n",
       "      <td>0.0</td>\n",
       "      <td>7.0</td>\n",
       "      <td>2.0</td>\n",
       "      <td>21.0</td>\n",
       "      <td>2.0</td>\n",
       "      <td>0.0</td>\n",
       "      <td>1</td>\n",
       "    </tr>\n",
       "    <tr>\n",
       "      <td>1</td>\n",
       "      <td>1</td>\n",
       "      <td>9.59</td>\n",
       "      <td>1</td>\n",
       "      <td>0</td>\n",
       "      <td>1223</td>\n",
       "      <td>1211</td>\n",
       "      <td>627.0</td>\n",
       "      <td>858.0</td>\n",
       "      <td>186.0</td>\n",
       "      <td>116.0</td>\n",
       "      <td>...</td>\n",
       "      <td>0.0</td>\n",
       "      <td>-231.0</td>\n",
       "      <td>70.0</td>\n",
       "      <td>10.0</td>\n",
       "      <td>29.0</td>\n",
       "      <td>2.0</td>\n",
       "      <td>131.0</td>\n",
       "      <td>1.0</td>\n",
       "      <td>0.0</td>\n",
       "      <td>1</td>\n",
       "    </tr>\n",
       "    <tr>\n",
       "      <td>2</td>\n",
       "      <td>2</td>\n",
       "      <td>9.59</td>\n",
       "      <td>1</td>\n",
       "      <td>2</td>\n",
       "      <td>851</td>\n",
       "      <td>1371</td>\n",
       "      <td>413.0</td>\n",
       "      <td>725.0</td>\n",
       "      <td>90.0</td>\n",
       "      <td>232.0</td>\n",
       "      <td>...</td>\n",
       "      <td>2.0</td>\n",
       "      <td>-312.0</td>\n",
       "      <td>-142.0</td>\n",
       "      <td>-16.0</td>\n",
       "      <td>-44.0</td>\n",
       "      <td>5.0</td>\n",
       "      <td>-10.0</td>\n",
       "      <td>1.0</td>\n",
       "      <td>-2.0</td>\n",
       "      <td>0</td>\n",
       "    </tr>\n",
       "    <tr>\n",
       "      <td>3</td>\n",
       "      <td>3</td>\n",
       "      <td>9.59</td>\n",
       "      <td>0</td>\n",
       "      <td>1</td>\n",
       "      <td>1389</td>\n",
       "      <td>1622</td>\n",
       "      <td>713.0</td>\n",
       "      <td>388.0</td>\n",
       "      <td>180.0</td>\n",
       "      <td>148.0</td>\n",
       "      <td>...</td>\n",
       "      <td>0.0</td>\n",
       "      <td>325.0</td>\n",
       "      <td>32.0</td>\n",
       "      <td>-7.0</td>\n",
       "      <td>8.0</td>\n",
       "      <td>-13.0</td>\n",
       "      <td>-578.0</td>\n",
       "      <td>0.0</td>\n",
       "      <td>0.0</td>\n",
       "      <td>0</td>\n",
       "    </tr>\n",
       "    <tr>\n",
       "      <td>4</td>\n",
       "      <td>4</td>\n",
       "      <td>5.43</td>\n",
       "      <td>0</td>\n",
       "      <td>2</td>\n",
       "      <td>966</td>\n",
       "      <td>651</td>\n",
       "      <td>430.0</td>\n",
       "      <td>272.0</td>\n",
       "      <td>67.0</td>\n",
       "      <td>126.0</td>\n",
       "      <td>...</td>\n",
       "      <td>0.0</td>\n",
       "      <td>158.0</td>\n",
       "      <td>-59.0</td>\n",
       "      <td>21.0</td>\n",
       "      <td>71.0</td>\n",
       "      <td>2.0</td>\n",
       "      <td>125.0</td>\n",
       "      <td>-3.0</td>\n",
       "      <td>0.0</td>\n",
       "      <td>0</td>\n",
       "    </tr>\n",
       "  </tbody>\n",
       "</table>\n",
       "<p>5 rows × 31 columns</p>\n",
       "</div>"
      ],
      "text/plain": [
       "   game_id  time  player0_species  player1_species  event_count_0  \\\n",
       "0        0  7.24                0                0            592   \n",
       "1        1  9.59                1                0           1223   \n",
       "2        2  9.59                1                2            851   \n",
       "3        3  9.59                0                1           1389   \n",
       "4        4  5.43                0                2            966   \n",
       "\n",
       "   event_count_1  Camera_count_0  Camera_count_1  Selection_count_0  \\\n",
       "0            548           444.0           425.0               50.0   \n",
       "1           1211           627.0           858.0              186.0   \n",
       "2           1371           413.0           725.0               90.0   \n",
       "3           1622           713.0           388.0              180.0   \n",
       "4            651           430.0           272.0               67.0   \n",
       "\n",
       "   Selection_count_1  ...  ControlGroup_count_1  Camera_diff  Selection_diff  \\\n",
       "0               57.0  ...                   0.0         19.0            -7.0   \n",
       "1              116.0  ...                   0.0       -231.0            70.0   \n",
       "2              232.0  ...                   2.0       -312.0          -142.0   \n",
       "3              148.0  ...                   0.0        325.0            32.0   \n",
       "4              126.0  ...                   0.0        158.0           -59.0   \n",
       "\n",
       "   Ability_diff  Right Click_diff  SetControlGroup_diff  GetControlGroup_diff  \\\n",
       "0           0.0               7.0                   2.0                  21.0   \n",
       "1          10.0              29.0                   2.0                 131.0   \n",
       "2         -16.0             -44.0                   5.0                 -10.0   \n",
       "3          -7.0               8.0                 -13.0                -578.0   \n",
       "4          21.0              71.0                   2.0                 125.0   \n",
       "\n",
       "   AddToControlGroup_diff  ControlGroup_diff  winner  \n",
       "0                     2.0                0.0       1  \n",
       "1                     1.0                0.0       1  \n",
       "2                     1.0               -2.0       0  \n",
       "3                     0.0                0.0       0  \n",
       "4                    -3.0                0.0       0  \n",
       "\n",
       "[5 rows x 31 columns]"
      ]
     },
     "execution_count": 12,
     "metadata": {},
     "output_type": "execute_result"
    }
   ],
   "source": [
    "df_train.head()"
   ]
  },
  {
   "cell_type": "code",
   "execution_count": 16,
   "metadata": {},
   "outputs": [
    {
     "name": "stderr",
     "output_type": "stream",
     "text": [
      "Using TensorFlow backend.\n"
     ]
    }
   ],
   "source": [
    "# ============================================ [ modeling ] =======================================================\n",
    "from keras import models \n",
    "from keras import layers\n",
    "from tensorflow.keras.layers import Conv2D, MaxPooling2D, Flatten, Dense\n",
    "from keras.utils import to_categorical\n",
    "\n",
    "x_train = df_train.iloc[:, 1:30]\n",
    "y_train = df_train[\"winner\"]"
   ]
  },
  {
   "cell_type": "code",
   "execution_count": 15,
   "metadata": {},
   "outputs": [
    {
     "ename": "NameError",
     "evalue": "name 'models' is not defined",
     "output_type": "error",
     "traceback": [
      "\u001b[0;31m---------------------------------------------------------------------------\u001b[0m",
      "\u001b[0;31mNameError\u001b[0m                                 Traceback (most recent call last)",
      "\u001b[0;32m<ipython-input-15-eaf3c580aa0b>\u001b[0m in \u001b[0;36m<module>\u001b[0;34m\u001b[0m\n\u001b[0;32m----> 1\u001b[0;31m \u001b[0mmodel\u001b[0m \u001b[0;34m=\u001b[0m \u001b[0mmodels\u001b[0m\u001b[0;34m.\u001b[0m\u001b[0mSequential\u001b[0m\u001b[0;34m(\u001b[0m\u001b[0;34m)\u001b[0m\u001b[0;34m\u001b[0m\u001b[0;34m\u001b[0m\u001b[0m\n\u001b[0m\u001b[1;32m      2\u001b[0m \u001b[0mmodel\u001b[0m\u001b[0;34m.\u001b[0m\u001b[0madd\u001b[0m\u001b[0;34m(\u001b[0m\u001b[0mlayers\u001b[0m\u001b[0;34m.\u001b[0m\u001b[0mDense\u001b[0m\u001b[0;34m(\u001b[0m\u001b[0munits\u001b[0m \u001b[0;34m=\u001b[0m \u001b[0;36m4\u001b[0m\u001b[0;34m,\u001b[0m \u001b[0mactivation\u001b[0m \u001b[0;34m=\u001b[0m \u001b[0;34m\"relu\"\u001b[0m\u001b[0;34m,\u001b[0m \u001b[0minput_shape\u001b[0m \u001b[0;34m=\u001b[0m \u001b[0;34m(\u001b[0m\u001b[0mx_train\u001b[0m\u001b[0;34m.\u001b[0m\u001b[0mshape\u001b[0m\u001b[0;34m[\u001b[0m\u001b[0;36m1\u001b[0m\u001b[0;34m]\u001b[0m\u001b[0;34m,\u001b[0m \u001b[0;34m)\u001b[0m\u001b[0;34m)\u001b[0m\u001b[0;34m)\u001b[0m\u001b[0;34m\u001b[0m\u001b[0;34m\u001b[0m\u001b[0m\n\u001b[1;32m      3\u001b[0m \u001b[0mmodel\u001b[0m\u001b[0;34m.\u001b[0m\u001b[0madd\u001b[0m\u001b[0;34m(\u001b[0m\u001b[0mlayers\u001b[0m\u001b[0;34m.\u001b[0m\u001b[0mDense\u001b[0m\u001b[0;34m(\u001b[0m\u001b[0munits\u001b[0m \u001b[0;34m=\u001b[0m \u001b[0;36m4\u001b[0m\u001b[0;34m,\u001b[0m \u001b[0mactivation\u001b[0m \u001b[0;34m=\u001b[0m \u001b[0;34m\"relu\"\u001b[0m\u001b[0;34m)\u001b[0m\u001b[0;34m)\u001b[0m\u001b[0;34m\u001b[0m\u001b[0;34m\u001b[0m\u001b[0m\n\u001b[1;32m      4\u001b[0m \u001b[0mmodel\u001b[0m\u001b[0;34m.\u001b[0m\u001b[0madd\u001b[0m\u001b[0;34m(\u001b[0m\u001b[0mlayers\u001b[0m\u001b[0;34m.\u001b[0m\u001b[0mDense\u001b[0m\u001b[0;34m(\u001b[0m\u001b[0munits\u001b[0m \u001b[0;34m=\u001b[0m \u001b[0;36m1\u001b[0m\u001b[0;34m,\u001b[0m \u001b[0mactivation\u001b[0m \u001b[0;34m=\u001b[0m \u001b[0;34m\"sigmoid\"\u001b[0m\u001b[0;34m)\u001b[0m\u001b[0;34m)\u001b[0m\u001b[0;34m\u001b[0m\u001b[0;34m\u001b[0m\u001b[0m\n\u001b[1;32m      5\u001b[0m model.compile(optimizer = \"adam\",\n",
      "\u001b[0;31mNameError\u001b[0m: name 'models' is not defined"
     ]
    }
   ],
   "source": [
    "model = models.Sequential()\n",
    "model.add(layers.Dense(units = 4, activation = \"relu\", input_shape = (x_train.shape[1], )))\n",
    "model.add(layers.Dense(units = 4, activation = \"relu\"))\n",
    "model.add(layers.Dense(units = 1, activation = \"sigmoid\"))\n",
    "model.compile(optimizer = \"adam\",\n",
    "              loss = \"binary_crossentropy\",\n",
    "              metrics = [\"acc\"])"
   ]
  },
  {
   "cell_type": "code",
   "execution_count": 14,
   "metadata": {},
   "outputs": [
    {
     "ename": "NameError",
     "evalue": "name 'model' is not defined",
     "output_type": "error",
     "traceback": [
      "\u001b[0;31m---------------------------------------------------------------------------\u001b[0m",
      "\u001b[0;31mNameError\u001b[0m                                 Traceback (most recent call last)",
      "\u001b[0;32m<ipython-input-14-5f15418b3570>\u001b[0m in \u001b[0;36m<module>\u001b[0;34m\u001b[0m\n\u001b[0;32m----> 1\u001b[0;31m \u001b[0mmodel\u001b[0m\u001b[0;34m.\u001b[0m\u001b[0msummary\u001b[0m\u001b[0;34m(\u001b[0m\u001b[0;34m)\u001b[0m\u001b[0;34m\u001b[0m\u001b[0;34m\u001b[0m\u001b[0m\n\u001b[0m",
      "\u001b[0;31mNameError\u001b[0m: name 'model' is not defined"
     ]
    }
   ],
   "source": [
    "model.summary()"
   ]
  },
  {
   "cell_type": "code",
   "execution_count": null,
   "metadata": {},
   "outputs": [
    {
     "name": "stdout",
     "output_type": "stream",
     "text": [
      "Epoch 1/4\n"
     ]
    }
   ],
   "source": [
    "model.fit(x_train, \n",
    "          y_train,\n",
    "          epochs = 4,\n",
    "          batch_size = 32)"
   ]
  },
  {
   "cell_type": "code",
   "execution_count": 13,
   "metadata": {},
   "outputs": [
    {
     "name": "stdout",
     "output_type": "stream",
     "text": [
      "/bin/sh: conda: command not found\r\n"
     ]
    }
   ],
   "source": []
  },
  {
   "cell_type": "code",
   "execution_count": null,
   "metadata": {},
   "outputs": [],
   "source": []
  }
 ],
 "metadata": {
  "kernelspec": {
   "display_name": "Python 3",
   "language": "python",
   "name": "python3"
  },
  "language_info": {
   "codemirror_mode": {
    "name": "ipython",
    "version": 3
   },
   "file_extension": ".py",
   "mimetype": "text/x-python",
   "name": "python",
   "nbconvert_exporter": "python",
   "pygments_lexer": "ipython3",
   "version": "3.7.4"
  }
 },
 "nbformat": 4,
 "nbformat_minor": 2
}
